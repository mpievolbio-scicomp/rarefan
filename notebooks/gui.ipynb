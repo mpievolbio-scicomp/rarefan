{
 "cells": [
  {
   "cell_type": "code",
   "execution_count": 1,
   "metadata": {},
   "outputs": [],
   "source": [
    "\n",
    "from IPython.display import display"
   ]
  },
  {
   "cell_type": "code",
   "execution_count": 2,
   "metadata": {},
   "outputs": [],
   "source": [
    "import ipywidgets as widgets\n",
    "import tempfile\n",
    "import os, shutil"
   ]
  },
  {
   "cell_type": "code",
   "execution_count": 3,
   "metadata": {},
   "outputs": [],
   "source": [
    "import subprocess"
   ]
  },
  {
   "cell_type": "code",
   "execution_count": 4,
   "metadata": {},
   "outputs": [],
   "source": [
    "tmpdir = tempfile.mkdtemp(suffix=None, prefix=None, dir=None)"
   ]
  },
  {
   "cell_type": "code",
   "execution_count": 5,
   "metadata": {},
   "outputs": [],
   "source": [
    "ROOT=os.getcwd()"
   ]
  },
  {
   "cell_type": "code",
   "execution_count": 6,
   "metadata": {},
   "outputs": [],
   "source": [
    "#default style\n",
    "style = {'description_width': 'initial'}\n",
    "\n",
    "layout=widgets.Layout(width='80%')"
   ]
  },
  {
   "cell_type": "code",
   "execution_count": 7,
   "metadata": {},
   "outputs": [],
   "source": [
    "# input files widget\n",
    "sequence_file_upload_widget = widgets.FileUpload(\n",
    "                        accept='fas, fasta, fa',\n",
    "                        multiple=True,\n",
    "                        disabled=False,\n",
    "                        description=\"Select sequence files (.fas)\",\n",
    "                        style=style,\n",
    "                        layout=layout\n",
    ")\n",
    "\n",
    "reference_strain_widget = widgets.Dropdown(\n",
    "                            options=[],\n",
    "                            description=\"Select the reference strain.\",\n",
    "                            disabled=True,\n",
    "                            style=style,\n",
    "                            layout=layout,\n",
    ")\n",
    "\n",
    "def on_sequence_file_upload_change(change):\n",
    "    # Write uploded files to tmpdir\n",
    "    \n",
    "\n",
    "\n",
    "    for strain in change['new'].values():\n",
    "        with open(os.path.join(tmpdir, strain['metadata']['name']), 'wb') as fp:\n",
    "            fp.write(strain['content'])\n",
    "            \n",
    "    # Set options on reference_strain_widget\n",
    "    reference_strain_widget.options=list(change['new'].keys())\n",
    "    reference_strain_widget.disabled = False\n",
    "\n",
    "sequence_file_upload_widget.observe(on_sequence_file_upload_change, names='value')"
   ]
  },
  {
   "cell_type": "code",
   "execution_count": 8,
   "metadata": {},
   "outputs": [],
   "source": [
    "# parameter widgets\n",
    "min_nmer_widget = widgets.IntSlider(value=55,\n",
    "                                            min=0,\n",
    "                                            max=100,\n",
    "                                            description=\"Min nmer occurrence\",\n",
    "                                            style=style,  \n",
    "                                            layout=layout,\n",
    "                                   )\n",
    "\n",
    "\n",
    "nmer_length_widget = widgets.IntSlider(value=21,\n",
    "                                            min=0,\n",
    "                                            max=100,\n",
    "                                            description=\"Nmer length\",\n",
    "                                            style=style,\n",
    "                                            layout=layout,\n",
    "                                      )"
   ]
  },
  {
   "cell_type": "code",
   "execution_count": 9,
   "metadata": {},
   "outputs": [],
   "source": [
    "query_rayt_upload_widget = widgets.FileUpload(\n",
    "    accept=\"faa\",\n",
    "    multiple=False,\n",
    "    description=\"Select query rayt sequence file (.faa)\",\n",
    "    style=style,\n",
    "    layout=layout,\n",
    ")\n",
    "\n",
    "def on_query_rayt_upload_change(change):\n",
    "    # Write uploded files to tmpdir\n",
    "\n",
    "    for strain in change['new'].values():\n",
    "        with open(os.path.join(tmpdir, 'query_rayt.faa'), 'wb') as fp:\n",
    "            fp.write(strain['content'])\n",
    "            \n",
    "\n",
    "query_rayt_upload_widget.observe(on_query_rayt_upload_change, names='value')"
   ]
  },
  {
   "cell_type": "code",
   "execution_count": 10,
   "metadata": {},
   "outputs": [],
   "source": [
    "tree_file_widget = widgets.Text(value=\"strain.nwk\",\n",
    "                                         placeholder=\"Name of tree file\",\n",
    "                                         description=\"Name (path) of the tree file. Will be generated if not present.\",\n",
    "                                         disabled=False,\n",
    "                                        style=style,\n",
    "                                        layout=layout\n",
    "                               )"
   ]
  },
  {
   "cell_type": "code",
   "execution_count": 11,
   "metadata": {},
   "outputs": [],
   "source": [
    "e_widget = widgets.FloatText(value=1e-90,\n",
    "                             description=\"e value cutoff\",\n",
    "                             disabled=False,\n",
    "                             style=style,\n",
    "                       )"
   ]
  },
  {
   "cell_type": "code",
   "execution_count": 12,
   "metadata": {},
   "outputs": [],
   "source": [
    "def check_all_inputs():\n",
    "    return all([True])"
   ]
  },
  {
   "cell_type": "code",
   "execution_count": 13,
   "metadata": {},
   "outputs": [],
   "source": [
    "output_widget = widgets.Output()"
   ]
  },
  {
   "cell_type": "code",
   "execution_count": 14,
   "metadata": {},
   "outputs": [],
   "source": [
    "run_button = widgets.Button(\n",
    "    description='Run RepinPop analysis',\n",
    "    disabled=False,\n",
    "    button_style='warning', # 'success', 'info', 'warning', 'danger' or ''\n",
    "    tooltip='Run the Repin Population analysis',\n",
    "    icon='run'\n",
    ")"
   ]
  },
  {
   "cell_type": "code",
   "execution_count": 15,
   "metadata": {},
   "outputs": [],
   "source": [
    "def on_button_clicked(b):\n",
    "    with output_widget:\n",
    "        print(\"RepinPop starts\")\n",
    "        run_repin_pop()"
   ]
  },
  {
   "cell_type": "code",
   "execution_count": 16,
   "metadata": {},
   "outputs": [],
   "source": [
    "run_button.on_click(on_button_clicked)"
   ]
  },
  {
   "cell_type": "code",
   "execution_count": 17,
   "metadata": {},
   "outputs": [],
   "source": [
    "def run_repin_pop():\n",
    "    oldwd = os.getcwd()\n",
    "    #os.chdir(tempfile.gettempdir())\n",
    "    os.chdir('/')\n",
    "    command = ['java',\n",
    "              '-jar',\n",
    "              os.path.abspath(\n",
    "                  os.path.join(ROOT,\n",
    "                               '..',\n",
    "                               'REPIN_ecology/REPIN_ecology/build/libs/REPIN_ecology.jar')),\n",
    "              tmpdir,\n",
    "               reference_strain_widget.value,\n",
    "               '{0:d}'.format(min_nmer_widget.value),\n",
    "               '{0:d}'.format(nmer_length_widget.value),\n",
    "               os.path.join(tmpdir, 'query_rayt.faa'),\n",
    "               os.path.join(tmpdir, tree_file_widget.value),\n",
    "               '{0:1.2e}'.format(e_widget.value)\n",
    "              ]\n",
    "    \n",
    "    \n",
    "    #print(command)\n",
    "    \n",
    "    with subprocess.Popen(command,\n",
    "                          stdout=subprocess.PIPE,\n",
    "                          stderr=subprocess.STDOUT) as proc:\n",
    "        \n",
    "        \n",
    "        print(proc.stdout.read())\n",
    "            \n",
    "\n",
    "    \n",
    "    os.chdir(oldwd)\n",
    "    "
   ]
  },
  {
   "cell_type": "code",
   "execution_count": 18,
   "metadata": {},
   "outputs": [],
   "source": [
    "gui = widgets.VBox(\n",
    "    [\n",
    "    widgets.VBox(\n",
    "        [\n",
    "        sequence_file_upload_widget,\n",
    "        reference_strain_widget,\n",
    "        ]\n",
    "    ),\n",
    "        query_rayt_upload_widget,\n",
    "        widgets.VBox(\n",
    "            [\n",
    "                min_nmer_widget,\n",
    "                nmer_length_widget,\n",
    "            ]\n",
    "        ),\n",
    "        widgets.VBox(\n",
    "            [\n",
    "                tree_file_widget,\n",
    "                e_widget,\n",
    "            ]\n",
    "        ),\n",
    "        run_button,\n",
    "        output_widget\n",
    "    ],\n",
    "    #layout=widgets.Layout(width='100%')\n",
    ")"
   ]
  },
  {
   "cell_type": "code",
   "execution_count": 19,
   "metadata": {},
   "outputs": [
    {
     "data": {
      "application/vnd.jupyter.widget-view+json": {
       "model_id": "a3d24b0a4187464e903c2a9b01432c6b",
       "version_major": 2,
       "version_minor": 0
      },
      "text/plain": [
       "VBox(children=(VBox(children=(FileUpload(value={}, accept='fas, fasta, fa', description='Select sequence files…"
      ]
     },
     "metadata": {},
     "output_type": "display_data"
    }
   ],
   "source": [
    "_ = display(gui)"
   ]
  },
  {
   "cell_type": "code",
   "execution_count": null,
   "metadata": {},
   "outputs": [],
   "source": []
  }
 ],
 "metadata": {
  "hide_input": false,
  "kernelspec": {
   "display_name": "Python 3",
   "language": "python",
   "name": "python3"
  },
  "language_info": {
   "codemirror_mode": {
    "name": "ipython",
    "version": 3
   },
   "file_extension": ".py",
   "mimetype": "text/x-python",
   "name": "python",
   "nbconvert_exporter": "python",
   "pygments_lexer": "ipython3",
   "version": "3.8.5"
  }
 },
 "nbformat": 4,
 "nbformat_minor": 2
}
