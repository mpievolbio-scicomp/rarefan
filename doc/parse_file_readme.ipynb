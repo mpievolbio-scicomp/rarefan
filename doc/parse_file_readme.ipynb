{
 "cells": [
  {
   "cell_type": "code",
   "execution_count": 10,
   "metadata": {
    "collapsed": true
   },
   "outputs": [],
   "source": [
    "import pandas\n",
    "from IPython.display import Markdown as md"
   ]
  },
  {
   "cell_type": "code",
   "execution_count": 26,
   "outputs": [],
   "source": [
    "table = pandas.read_html('RAREFAN_Manual.html', attrs={'class': 'MsoTableGrid'}, index_col=0, header=0)"
   ],
   "metadata": {
    "collapsed": false
   }
  },
  {
   "cell_type": "code",
   "execution_count": 27,
   "outputs": [
    {
     "data": {
      "text/plain": "[                                                                              Content\n Files in out/                                                                        \n tmptree.nwk                         A  phylogenetic tree of all genomes generated ...\n [reference].wfr                     A file containing  the frequencies of all 21bp...\n [reference].overrep                 Contains all 21bp long  sequences that occur m...\n yafM_relatives.fna                  A file containing  the nucleotide sequences of...\n maxREPIN_[0-5].txt                  If REPINs of  that group were identified in th...\n presAbs_[0-5].txt                   If the  REPINs option is ticked during submiss...\n raytAln.phy                         Nucleotide  alignment of all RAYTs identified ...\n raytAln.phy_phyml_tree.txt          Phylogenetic  tree calculated with PHYML from ...\n rayt_[strain name].tab              Contains  location information for each identi...\n results.txt                         Contains for  each strain the frequency of the...\n repin_rayt_association.txt          Table  containing information on which RAYT (c...\n repin_rayt_association_byREPIN.txt  Same  information as above but in a different ...\n repin_rayt_association.txt.fas      Nucleotide  sequences of each RAYT gene from e...,\n                                                                             Content\n Files in out/groupSeedSequences/                                                   \n Group_[reference]_[0-5].out       Contains all  seed sequences that occur more t...\n Group_[reference]_[0-5].out.fas   The same  information as above but in FASTA fo...\n [reference]_words.tab             Contains the  locations of all overrepresented...,\n                                                                                     Content\n Files in out/[genome]_[0-5]/                                                               \n [genome]_[0-5].dd                         Degree  distribution of the REPIN network, whe...\n [genome]_[0-5].hist                       For the  largest sequence cluster determined b...\n [genome]_[0-5].mcl                        Contains the  clustering output by mcl. Each l...\n [genome]_[0-5].mw                         Contains the  most common 21bp long sequence o...\n [genome]_[0-5].nodes                      The identity  and frequency of all REPINs and ...\n [genome]_[0-5]_largestCluster.nodes       The identity  and frequency of all REPINs or R...\n [genome]_[0-5].ss                         Contains  REPINs and REP sequences as well as ...\n [genome]_[0-5]_largestCluster.ss          Same  information as above just for the larges...\n [genome]_[0-5]_[mcl cluster  number].ss   The same  information as above except that it ...\n [genome]_[0-5].ss.REP                            REP sequence  information in FASTA format.\n [genome]_[0-5].tab                        Location in  tab format. Can be used to displa...\n [genome]_[0-5]_[mcl  cluster number].tab  Contains the  location of REP/REPINs for each ...\n [genome]_[0-5]_allSeed.nw                 Contains  network connections between nodes of...\n _rayt_repin_prox.txt                      Contains  information on which REPIN/REP clust...\n subfolder  [genome]_[0-5]/                Contains the  complete sequences (including th...]"
     },
     "execution_count": 27,
     "metadata": {},
     "output_type": "execute_result"
    }
   ],
   "source": [
    "table"
   ],
   "metadata": {
    "collapsed": false
   }
  },
  {
   "cell_type": "code",
   "execution_count": 28,
   "outputs": [
    {
     "data": {
      "text/plain": "                                                                              Content\nFiles in out/                                                                        \ntmptree.nwk                         A  phylogenetic tree of all genomes generated ...\n[reference].wfr                     A file containing  the frequencies of all 21bp...\n[reference].overrep                 Contains all 21bp long  sequences that occur m...\nyafM_relatives.fna                  A file containing  the nucleotide sequences of...\nmaxREPIN_[0-5].txt                  If REPINs of  that group were identified in th...\npresAbs_[0-5].txt                   If the  REPINs option is ticked during submiss...\nraytAln.phy                         Nucleotide  alignment of all RAYTs identified ...\nraytAln.phy_phyml_tree.txt          Phylogenetic  tree calculated with PHYML from ...\nrayt_[strain name].tab              Contains  location information for each identi...\nresults.txt                         Contains for  each strain the frequency of the...\nrepin_rayt_association.txt          Table  containing information on which RAYT (c...\nrepin_rayt_association_byREPIN.txt  Same  information as above but in a different ...\nrepin_rayt_association.txt.fas      Nucleotide  sequences of each RAYT gene from e...",
      "text/html": "<div>\n<style scoped>\n    .dataframe tbody tr th:only-of-type {\n        vertical-align: middle;\n    }\n\n    .dataframe tbody tr th {\n        vertical-align: top;\n    }\n\n    .dataframe thead th {\n        text-align: right;\n    }\n</style>\n<table border=\"1\" class=\"dataframe\">\n  <thead>\n    <tr style=\"text-align: right;\">\n      <th></th>\n      <th>Content</th>\n    </tr>\n    <tr>\n      <th>Files in out/</th>\n      <th></th>\n    </tr>\n  </thead>\n  <tbody>\n    <tr>\n      <th>tmptree.nwk</th>\n      <td>A  phylogenetic tree of all genomes generated ...</td>\n    </tr>\n    <tr>\n      <th>[reference].wfr</th>\n      <td>A file containing  the frequencies of all 21bp...</td>\n    </tr>\n    <tr>\n      <th>[reference].overrep</th>\n      <td>Contains all 21bp long  sequences that occur m...</td>\n    </tr>\n    <tr>\n      <th>yafM_relatives.fna</th>\n      <td>A file containing  the nucleotide sequences of...</td>\n    </tr>\n    <tr>\n      <th>maxREPIN_[0-5].txt</th>\n      <td>If REPINs of  that group were identified in th...</td>\n    </tr>\n    <tr>\n      <th>presAbs_[0-5].txt</th>\n      <td>If the  REPINs option is ticked during submiss...</td>\n    </tr>\n    <tr>\n      <th>raytAln.phy</th>\n      <td>Nucleotide  alignment of all RAYTs identified ...</td>\n    </tr>\n    <tr>\n      <th>raytAln.phy_phyml_tree.txt</th>\n      <td>Phylogenetic  tree calculated with PHYML from ...</td>\n    </tr>\n    <tr>\n      <th>rayt_[strain name].tab</th>\n      <td>Contains  location information for each identi...</td>\n    </tr>\n    <tr>\n      <th>results.txt</th>\n      <td>Contains for  each strain the frequency of the...</td>\n    </tr>\n    <tr>\n      <th>repin_rayt_association.txt</th>\n      <td>Table  containing information on which RAYT (c...</td>\n    </tr>\n    <tr>\n      <th>repin_rayt_association_byREPIN.txt</th>\n      <td>Same  information as above but in a different ...</td>\n    </tr>\n    <tr>\n      <th>repin_rayt_association.txt.fas</th>\n      <td>Nucleotide  sequences of each RAYT gene from e...</td>\n    </tr>\n  </tbody>\n</table>\n</div>"
     },
     "execution_count": 28,
     "metadata": {},
     "output_type": "execute_result"
    }
   ],
   "source": [
    "table[0]"
   ],
   "metadata": {
    "collapsed": false
   }
  },
  {
   "cell_type": "code",
   "execution_count": 29,
   "outputs": [
    {
     "data": {
      "text/plain": "                                                                                    Content\ntmptree.nwk                               A  phylogenetic tree of all genomes generated ...\n[reference].wfr                           A file containing  the frequencies of all 21bp...\n[reference].overrep                       Contains all 21bp long  sequences that occur m...\nyafM_relatives.fna                        A file containing  the nucleotide sequences of...\nmaxREPIN_[0-5].txt                        If REPINs of  that group were identified in th...\npresAbs_[0-5].txt                         If the  REPINs option is ticked during submiss...\nraytAln.phy                               Nucleotide  alignment of all RAYTs identified ...\nraytAln.phy_phyml_tree.txt                Phylogenetic  tree calculated with PHYML from ...\nrayt_[strain name].tab                    Contains  location information for each identi...\nresults.txt                               Contains for  each strain the frequency of the...\nrepin_rayt_association.txt                Table  containing information on which RAYT (c...\nrepin_rayt_association_byREPIN.txt        Same  information as above but in a different ...\nrepin_rayt_association.txt.fas            Nucleotide  sequences of each RAYT gene from e...\nGroup_[reference]_[0-5].out               Contains all  seed sequences that occur more t...\nGroup_[reference]_[0-5].out.fas           The same  information as above but in FASTA fo...\n[reference]_words.tab                     Contains the  locations of all overrepresented...\n[genome]_[0-5].dd                         Degree  distribution of the REPIN network, whe...\n[genome]_[0-5].hist                       For the  largest sequence cluster determined b...\n[genome]_[0-5].mcl                        Contains the  clustering output by mcl. Each l...\n[genome]_[0-5].mw                         Contains the  most common 21bp long sequence o...\n[genome]_[0-5].nodes                      The identity  and frequency of all REPINs and ...\n[genome]_[0-5]_largestCluster.nodes       The identity  and frequency of all REPINs or R...\n[genome]_[0-5].ss                         Contains  REPINs and REP sequences as well as ...\n[genome]_[0-5]_largestCluster.ss          Same  information as above just for the larges...\n[genome]_[0-5]_[mcl cluster  number].ss   The same  information as above except that it ...\n[genome]_[0-5].ss.REP                            REP sequence  information in FASTA format.\n[genome]_[0-5].tab                        Location in  tab format. Can be used to displa...\n[genome]_[0-5]_[mcl  cluster number].tab  Contains the  location of REP/REPINs for each ...\n[genome]_[0-5]_allSeed.nw                 Contains  network connections between nodes of...\n_rayt_repin_prox.txt                      Contains  information on which REPIN/REP clust...\nsubfolder  [genome]_[0-5]/                Contains the  complete sequences (including th...",
      "text/html": "<div>\n<style scoped>\n    .dataframe tbody tr th:only-of-type {\n        vertical-align: middle;\n    }\n\n    .dataframe tbody tr th {\n        vertical-align: top;\n    }\n\n    .dataframe thead th {\n        text-align: right;\n    }\n</style>\n<table border=\"1\" class=\"dataframe\">\n  <thead>\n    <tr style=\"text-align: right;\">\n      <th></th>\n      <th>Content</th>\n    </tr>\n  </thead>\n  <tbody>\n    <tr>\n      <th>tmptree.nwk</th>\n      <td>A  phylogenetic tree of all genomes generated ...</td>\n    </tr>\n    <tr>\n      <th>[reference].wfr</th>\n      <td>A file containing  the frequencies of all 21bp...</td>\n    </tr>\n    <tr>\n      <th>[reference].overrep</th>\n      <td>Contains all 21bp long  sequences that occur m...</td>\n    </tr>\n    <tr>\n      <th>yafM_relatives.fna</th>\n      <td>A file containing  the nucleotide sequences of...</td>\n    </tr>\n    <tr>\n      <th>maxREPIN_[0-5].txt</th>\n      <td>If REPINs of  that group were identified in th...</td>\n    </tr>\n    <tr>\n      <th>presAbs_[0-5].txt</th>\n      <td>If the  REPINs option is ticked during submiss...</td>\n    </tr>\n    <tr>\n      <th>raytAln.phy</th>\n      <td>Nucleotide  alignment of all RAYTs identified ...</td>\n    </tr>\n    <tr>\n      <th>raytAln.phy_phyml_tree.txt</th>\n      <td>Phylogenetic  tree calculated with PHYML from ...</td>\n    </tr>\n    <tr>\n      <th>rayt_[strain name].tab</th>\n      <td>Contains  location information for each identi...</td>\n    </tr>\n    <tr>\n      <th>results.txt</th>\n      <td>Contains for  each strain the frequency of the...</td>\n    </tr>\n    <tr>\n      <th>repin_rayt_association.txt</th>\n      <td>Table  containing information on which RAYT (c...</td>\n    </tr>\n    <tr>\n      <th>repin_rayt_association_byREPIN.txt</th>\n      <td>Same  information as above but in a different ...</td>\n    </tr>\n    <tr>\n      <th>repin_rayt_association.txt.fas</th>\n      <td>Nucleotide  sequences of each RAYT gene from e...</td>\n    </tr>\n    <tr>\n      <th>Group_[reference]_[0-5].out</th>\n      <td>Contains all  seed sequences that occur more t...</td>\n    </tr>\n    <tr>\n      <th>Group_[reference]_[0-5].out.fas</th>\n      <td>The same  information as above but in FASTA fo...</td>\n    </tr>\n    <tr>\n      <th>[reference]_words.tab</th>\n      <td>Contains the  locations of all overrepresented...</td>\n    </tr>\n    <tr>\n      <th>[genome]_[0-5].dd</th>\n      <td>Degree  distribution of the REPIN network, whe...</td>\n    </tr>\n    <tr>\n      <th>[genome]_[0-5].hist</th>\n      <td>For the  largest sequence cluster determined b...</td>\n    </tr>\n    <tr>\n      <th>[genome]_[0-5].mcl</th>\n      <td>Contains the  clustering output by mcl. Each l...</td>\n    </tr>\n    <tr>\n      <th>[genome]_[0-5].mw</th>\n      <td>Contains the  most common 21bp long sequence o...</td>\n    </tr>\n    <tr>\n      <th>[genome]_[0-5].nodes</th>\n      <td>The identity  and frequency of all REPINs and ...</td>\n    </tr>\n    <tr>\n      <th>[genome]_[0-5]_largestCluster.nodes</th>\n      <td>The identity  and frequency of all REPINs or R...</td>\n    </tr>\n    <tr>\n      <th>[genome]_[0-5].ss</th>\n      <td>Contains  REPINs and REP sequences as well as ...</td>\n    </tr>\n    <tr>\n      <th>[genome]_[0-5]_largestCluster.ss</th>\n      <td>Same  information as above just for the larges...</td>\n    </tr>\n    <tr>\n      <th>[genome]_[0-5]_[mcl cluster  number].ss</th>\n      <td>The same  information as above except that it ...</td>\n    </tr>\n    <tr>\n      <th>[genome]_[0-5].ss.REP</th>\n      <td>REP sequence  information in FASTA format.</td>\n    </tr>\n    <tr>\n      <th>[genome]_[0-5].tab</th>\n      <td>Location in  tab format. Can be used to displa...</td>\n    </tr>\n    <tr>\n      <th>[genome]_[0-5]_[mcl  cluster number].tab</th>\n      <td>Contains the  location of REP/REPINs for each ...</td>\n    </tr>\n    <tr>\n      <th>[genome]_[0-5]_allSeed.nw</th>\n      <td>Contains  network connections between nodes of...</td>\n    </tr>\n    <tr>\n      <th>_rayt_repin_prox.txt</th>\n      <td>Contains  information on which REPIN/REP clust...</td>\n    </tr>\n    <tr>\n      <th>subfolder  [genome]_[0-5]/</th>\n      <td>Contains the  complete sequences (including th...</td>\n    </tr>\n  </tbody>\n</table>\n</div>"
     },
     "execution_count": 29,
     "metadata": {},
     "output_type": "execute_result"
    }
   ],
   "source": [
    "pandas.concat(table)"
   ],
   "metadata": {
    "collapsed": false
   }
  },
  {
   "cell_type": "code",
   "execution_count": 30,
   "outputs": [
    {
     "data": {
      "text/plain": "<IPython.core.display.Markdown object>",
      "text/markdown": "| Files in out/                      | Content                                                                                                                                                                                                                                                                                                                                                                                                                                                                                                                                                                                                                                                                                                |\n|:-----------------------------------|:-------------------------------------------------------------------------------------------------------------------------------------------------------------------------------------------------------------------------------------------------------------------------------------------------------------------------------------------------------------------------------------------------------------------------------------------------------------------------------------------------------------------------------------------------------------------------------------------------------------------------------------------------------------------------------------------------------|\n| tmptree.nwk                        | A  phylogenetic tree of all genomes generated with andi  (http://github.com/evolbioinf/andi/) and clustDist (http://guanine.evolbio.mpg.de/problemsBook/node1.html).                                                                                                                                                                                                                                                                                                                                                                                                                                                                                                                                   |\n| [reference].wfr                    | A file containing  the frequencies of all 21bp long sequences found in the designated reference  genome.                                                                                                                                                                                                                                                                                                                                                                                                                                                                                                                                                                                               |\n| [reference].overrep                | Contains all 21bp long  sequences that occur more frequently than n (default 55) times in the reference  genome.                                                                                                                                                                                                                                                                                                                                                                                                                                                                                                                                                                                       |\n| yafM_relatives.fna                 | A file containing  the nucleotide sequences of all RAYT relatives identified with  BLAST+ in all provided genomes. Contains only sequences that are  longer than 240 bp.                                                                                                                                                                                                                                                                                                                                                                                                                                                                                                                               |\n| maxREPIN_[0-5].txt                 | If REPINs of  that group were identified in the strain and the REPIN option is ticked then  it contains the most frequent REPIN identified for each sequence type in each  strain. If the REPIN option is not ticked then the most common REP sequence  is shown.                                                                                                                                                                                                                                                                                                                                                                                                                                      |\n| presAbs_[0-5].txt                  | If the  REPINs option is ticked during submission then it contains information on  RAYT and REPIN numbers are shown as long as the strain does contain at least one  copy of that REPIN type. If the REPIN  option is not ticked then only information on REP sequences are going to be available  even if it says REPINs in the file.  Specifically,  information on the number of RAYTs, the number of REPINs, the master  sequence, the number of master sequences, the entire REP/REPIN population  size, the number of REPIN clusters that contain more than 10 sequences, all  REPINs in the population as well as all REPINs that differ to the master  sequences in at most three nucleotides. |\n| raytAln.phy                        | Nucleotide  alignment of all RAYTs identified in each of the query genomes.                                                                                                                                                                                                                                                                                                                                                                                                                                                                                                                                                                                                                            |\n| raytAln.phy_phyml_tree.txt         | Phylogenetic  tree calculated with PHYML from the above RAYT alignment.                                                                                                                                                                                                                                                                                                                                                                                                                                                                                                                                                                                                                                |\n| rayt_[strain name].tab             | Contains  location information for each identified RAYT relative for each strain. The  files can be viewed with artemis (5).                                                                                                                                                                                                                                                                                                                                                                                                                                                                                                                                                                           |\n| results.txt                        | Contains for  each strain the frequency of the six identified 21bp long seeds.                                                                                                                                                                                                                                                                                                                                                                                                                                                                                                                                                                                                                         |\n| repin_rayt_association.txt         | Table  containing information on which RAYT (column 2) from which genome (column 1) is  associated with which REPIN group(s) (column 3).                                                                                                                                                                                                                                                                                                                                                                                                                                                                                                                                                               |\n| repin_rayt_association_byREPIN.txt | Same  information as above but in a different format.                                                                                                                                                                                                                                                                                                                                                                                                                                                                                                                                                                                                                                                  |\n| repin_rayt_association.txt.fas     | Nucleotide  sequences of each RAYT gene from each of the genomes in FASTA format.                                                                                                                                                                                                                                                                                                                                                                                                                                                                                                                                                                                                                      |"
     },
     "execution_count": 30,
     "metadata": {},
     "output_type": "execute_result"
    }
   ],
   "source": [
    "md(table[0].to_markdown())"
   ],
   "metadata": {
    "collapsed": false
   }
  },
  {
   "cell_type": "code",
   "execution_count": 31,
   "outputs": [],
   "source": [
    "table = pandas.concat(table)\n",
    "table.index = table.index.set_names('File')"
   ],
   "metadata": {
    "collapsed": false
   }
  },
  {
   "cell_type": "code",
   "execution_count": 32,
   "outputs": [],
   "source": [
    "table.to_markdown('files_readme.md', index=True)"
   ],
   "metadata": {
    "collapsed": false
   }
  },
  {
   "cell_type": "code",
   "execution_count": 23,
   "outputs": [
    {
     "data": {
      "text/plain": "                                                                                    Content\ntmptree.nwk                               A  phylogenetic tree of all genomes generated ...\n[reference].wfr                           A file containing  the frequencies of all 21bp...\n[reference].overrep                       Contains all 21bp long  sequences that occur m...\nyafM_relatives.fna                        A file containing  the nucleotide sequences of...\nmaxREPIN_[0-5].txt                        If REPINs of  that group were identified in th...\npresAbs_[0-5].txt                         If the  REPINs option is ticked during submiss...\nraytAln.phy                               Nucleotide  alignment of all RAYTs identified ...\nraytAln.phy_phyml_tree.txt                Phylogenetic  tree calculated with PHYML from ...\nrayt_[strain name].tab                    Contains  location information for each identi...\nresults.txt                               Contains for  each strain the frequency of the...\nrepin_rayt_association.txt                Table  containing information on which RAYT (c...\nrepin_rayt_association_byREPIN.txt        Same  information as above but in a different ...\nrepin_rayt_association.txt.fas            Nucleotide  sequences of each RAYT gene from e...\nGroup_[reference]_[0-5].out               Contains all  seed sequences that occur more t...\nGroup_[reference]_[0-5].out.fas           The same  information as above but in FASTA fo...\n[reference]_words.tab                     Contains the  locations of all overrepresented...\n[genome]_[0-5].dd                         Degree  distribution of the REPIN network, whe...\n[genome]_[0-5].hist                       For the  largest sequence cluster determined b...\n[genome]_[0-5].mcl                        Contains the  clustering output by mcl. Each l...\n[genome]_[0-5].mw                         Contains the  most common 21bp long sequence o...\n[genome]_[0-5].nodes                      The identity  and frequency of all REPINs and ...\n[genome]_[0-5]_largestCluster.nodes       The identity  and frequency of all REPINs or R...\n[genome]_[0-5].ss                         Contains  REPINs and REP sequences as well as ...\n[genome]_[0-5]_largestCluster.ss          Same  information as above just for the larges...\n[genome]_[0-5]_[mcl cluster  number].ss   The same  information as above except that it ...\n[genome]_[0-5].ss.REP                            REP sequence  information in FASTA format.\n[genome]_[0-5].tab                        Location in  tab format. Can be used to displa...\n[genome]_[0-5]_[mcl  cluster number].tab  Contains the  location of REP/REPINs for each ...\n[genome]_[0-5]_allSeed.nw                 Contains  network connections between nodes of...\n_rayt_repin_prox.txt                      Contains  information on which REPIN/REP clust...\nsubfolder  [genome]_[0-5]/                Contains the  complete sequences (including th...",
      "text/html": "<div>\n<style scoped>\n    .dataframe tbody tr th:only-of-type {\n        vertical-align: middle;\n    }\n\n    .dataframe tbody tr th {\n        vertical-align: top;\n    }\n\n    .dataframe thead th {\n        text-align: right;\n    }\n</style>\n<table border=\"1\" class=\"dataframe\">\n  <thead>\n    <tr style=\"text-align: right;\">\n      <th></th>\n      <th>Content</th>\n    </tr>\n  </thead>\n  <tbody>\n    <tr>\n      <th>tmptree.nwk</th>\n      <td>A  phylogenetic tree of all genomes generated ...</td>\n    </tr>\n    <tr>\n      <th>[reference].wfr</th>\n      <td>A file containing  the frequencies of all 21bp...</td>\n    </tr>\n    <tr>\n      <th>[reference].overrep</th>\n      <td>Contains all 21bp long  sequences that occur m...</td>\n    </tr>\n    <tr>\n      <th>yafM_relatives.fna</th>\n      <td>A file containing  the nucleotide sequences of...</td>\n    </tr>\n    <tr>\n      <th>maxREPIN_[0-5].txt</th>\n      <td>If REPINs of  that group were identified in th...</td>\n    </tr>\n    <tr>\n      <th>presAbs_[0-5].txt</th>\n      <td>If the  REPINs option is ticked during submiss...</td>\n    </tr>\n    <tr>\n      <th>raytAln.phy</th>\n      <td>Nucleotide  alignment of all RAYTs identified ...</td>\n    </tr>\n    <tr>\n      <th>raytAln.phy_phyml_tree.txt</th>\n      <td>Phylogenetic  tree calculated with PHYML from ...</td>\n    </tr>\n    <tr>\n      <th>rayt_[strain name].tab</th>\n      <td>Contains  location information for each identi...</td>\n    </tr>\n    <tr>\n      <th>results.txt</th>\n      <td>Contains for  each strain the frequency of the...</td>\n    </tr>\n    <tr>\n      <th>repin_rayt_association.txt</th>\n      <td>Table  containing information on which RAYT (c...</td>\n    </tr>\n    <tr>\n      <th>repin_rayt_association_byREPIN.txt</th>\n      <td>Same  information as above but in a different ...</td>\n    </tr>\n    <tr>\n      <th>repin_rayt_association.txt.fas</th>\n      <td>Nucleotide  sequences of each RAYT gene from e...</td>\n    </tr>\n    <tr>\n      <th>Group_[reference]_[0-5].out</th>\n      <td>Contains all  seed sequences that occur more t...</td>\n    </tr>\n    <tr>\n      <th>Group_[reference]_[0-5].out.fas</th>\n      <td>The same  information as above but in FASTA fo...</td>\n    </tr>\n    <tr>\n      <th>[reference]_words.tab</th>\n      <td>Contains the  locations of all overrepresented...</td>\n    </tr>\n    <tr>\n      <th>[genome]_[0-5].dd</th>\n      <td>Degree  distribution of the REPIN network, whe...</td>\n    </tr>\n    <tr>\n      <th>[genome]_[0-5].hist</th>\n      <td>For the  largest sequence cluster determined b...</td>\n    </tr>\n    <tr>\n      <th>[genome]_[0-5].mcl</th>\n      <td>Contains the  clustering output by mcl. Each l...</td>\n    </tr>\n    <tr>\n      <th>[genome]_[0-5].mw</th>\n      <td>Contains the  most common 21bp long sequence o...</td>\n    </tr>\n    <tr>\n      <th>[genome]_[0-5].nodes</th>\n      <td>The identity  and frequency of all REPINs and ...</td>\n    </tr>\n    <tr>\n      <th>[genome]_[0-5]_largestCluster.nodes</th>\n      <td>The identity  and frequency of all REPINs or R...</td>\n    </tr>\n    <tr>\n      <th>[genome]_[0-5].ss</th>\n      <td>Contains  REPINs and REP sequences as well as ...</td>\n    </tr>\n    <tr>\n      <th>[genome]_[0-5]_largestCluster.ss</th>\n      <td>Same  information as above just for the larges...</td>\n    </tr>\n    <tr>\n      <th>[genome]_[0-5]_[mcl cluster  number].ss</th>\n      <td>The same  information as above except that it ...</td>\n    </tr>\n    <tr>\n      <th>[genome]_[0-5].ss.REP</th>\n      <td>REP sequence  information in FASTA format.</td>\n    </tr>\n    <tr>\n      <th>[genome]_[0-5].tab</th>\n      <td>Location in  tab format. Can be used to displa...</td>\n    </tr>\n    <tr>\n      <th>[genome]_[0-5]_[mcl  cluster number].tab</th>\n      <td>Contains the  location of REP/REPINs for each ...</td>\n    </tr>\n    <tr>\n      <th>[genome]_[0-5]_allSeed.nw</th>\n      <td>Contains  network connections between nodes of...</td>\n    </tr>\n    <tr>\n      <th>_rayt_repin_prox.txt</th>\n      <td>Contains  information on which REPIN/REP clust...</td>\n    </tr>\n    <tr>\n      <th>subfolder  [genome]_[0-5]/</th>\n      <td>Contains the  complete sequences (including th...</td>\n    </tr>\n  </tbody>\n</table>\n</div>"
     },
     "execution_count": 23,
     "metadata": {},
     "output_type": "execute_result"
    }
   ],
   "source": [
    "pandas.concat(table)"
   ],
   "metadata": {
    "collapsed": false
   }
  },
  {
   "cell_type": "code",
   "execution_count": null,
   "outputs": [],
   "source": [],
   "metadata": {
    "collapsed": false
   }
  }
 ],
 "metadata": {
  "kernelspec": {
   "display_name": "Python 3",
   "language": "python",
   "name": "python3"
  },
  "language_info": {
   "codemirror_mode": {
    "name": "ipython",
    "version": 2
   },
   "file_extension": ".py",
   "mimetype": "text/x-python",
   "name": "python",
   "nbconvert_exporter": "python",
   "pygments_lexer": "ipython2",
   "version": "2.7.6"
  }
 },
 "nbformat": 4,
 "nbformat_minor": 0
}
